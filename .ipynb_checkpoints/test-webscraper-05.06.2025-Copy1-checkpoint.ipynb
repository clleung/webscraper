{
 "cells": [
  {
   "cell_type": "markdown",
   "id": "c8045a07-fd06-4768-ac4e-6f3401fa56eb",
   "metadata": {},
   "source": [
    "# Preliminary Web Scraper\n",
    "Author: Lisa Leung\n",
    "Github: clleung\n",
    "Date: May 6, 2025\n",
    "\n"
   ]
  },
  {
   "cell_type": "markdown",
   "id": "915b26b4-6314-4965-8f27-1a7d04ed5dd2",
   "metadata": {},
   "source": [
    "## Import Libraries"
   ]
  },
  {
   "cell_type": "code",
   "execution_count": null,
   "id": "4625314d-3f65-4785-acdf-3396716b9c2e",
   "metadata": {},
   "outputs": [],
   "source": [
    "import numpy as np\n",
    "import pandas as pd\n",
    "import matplotlib.pyplot as plt\n",
    "import altair as alt"
   ]
  },
  {
   "cell_type": "markdown",
   "id": "298d9089-2e29-477f-ab8d-bf174cf3599a",
   "metadata": {},
   "source": [
    "## Reading Datasets/Websites\n"
   ]
  },
  {
   "cell_type": "code",
   "execution_count": null,
   "id": "395e7b12-c39d-4151-8341-62e7c4d1b99c",
   "metadata": {},
   "outputs": [],
   "source": [
    "data = pd.read_csv('cleaned-03.29.22-preliminary_analysis.csv')\n",
    "print(data.head(1))\n",
    "print(len(data))"
   ]
  },
  {
   "cell_type": "markdown",
   "id": "f92e981b-4862-4cbb-88a2-b53fc9a6fc77",
   "metadata": {},
   "source": [
    "## Visualizations"
   ]
  },
  {
   "cell_type": "code",
   "execution_count": null,
   "id": "8694ea79-3137-4eab-8594-7fc1391fa67b",
   "metadata": {},
   "outputs": [],
   "source": []
  },
  {
   "cell_type": "markdown",
   "id": "d9430f61-2f90-431a-9cb3-e1423de96795",
   "metadata": {},
   "source": [
    "## Quotes"
   ]
  },
  {
   "cell_type": "code",
   "execution_count": null,
   "id": "a55f6ef2-ab92-4810-a613-a4219dc4f9ed",
   "metadata": {},
   "outputs": [],
   "source": []
  }
 ],
 "metadata": {
  "kernelspec": {
   "display_name": "Python 3 (ipykernel)",
   "language": "python",
   "name": "python3"
  },
  "language_info": {
   "codemirror_mode": {
    "name": "ipython",
    "version": 3
   },
   "file_extension": ".py",
   "mimetype": "text/x-python",
   "name": "python",
   "nbconvert_exporter": "python",
   "pygments_lexer": "ipython3",
   "version": "3.13.3"
  }
 },
 "nbformat": 4,
 "nbformat_minor": 5
}
